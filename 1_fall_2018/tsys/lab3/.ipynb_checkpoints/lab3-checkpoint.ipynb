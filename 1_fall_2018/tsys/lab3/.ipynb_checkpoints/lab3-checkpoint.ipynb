{
 "cells": [
  {
   "cell_type": "markdown",
   "metadata": {},
   "source": [
    "**Вариант 1**\n",
    "\n",
    "Для  производства  двух  видов  изделий  А  и  В  используется  токарное, фрезерное  и  шлифовальное  оборудование. \n",
    "Нормы  затрат  времени  для каждого из типов оборудования на одно изделие данного вида приведены в табл. 2.2. В ней же указан общий фонд рабочего времени каждого из типов оборудования, а также прибыль от реализации одного изделия."
   ]
  },
  {
   "cell_type": "markdown",
   "metadata": {},
   "source": [
    "| Type | Time A | Time B | Time available |\n",
    "|---|----|---|-----|\n",
    "| фрезерное | 10 | 8 | 168 |\n",
    "| токарное  | 5 | 10 | 180 |\n",
    "| шлифовальное | 6 | 12 | 144 |\n",
    "| Income| 14 | 18 | |\n",
    "\n"
   ]
  },
  {
   "cell_type": "markdown",
   "metadata": {},
   "source": [
    "Определить план выпуска изделий вида A и B, обеспечивающий максимальную прибыль от их реализации."
   ]
  },
  {
   "cell_type": "code",
   "execution_count": 2,
   "metadata": {},
   "outputs": [
    {
     "name": "stdout",
     "output_type": "stream",
     "text": [
      "     con: array([], dtype=float64)\n",
      "     fun: -276.0\n",
      " message: 'Optimization terminated successfully.'\n",
      "     nit: 3\n",
      "   slack: array([ 0., 60.,  0.])\n",
      "  status: 0\n",
      " success: True\n",
      "       x: array([12.,  6.])\n"
     ]
    }
   ],
   "source": [
    "from scipy.optimize import linprog\n",
    "c = [-14, -18]\n",
    "A = [[10,8],[5,10],[6,12]]\n",
    "b = [168,180,144]\n",
    "result = linprog(c,A_ub=A,b_ub=b)\n",
    "print(result)"
   ]
  },
  {
   "cell_type": "code",
   "execution_count": null,
   "metadata": {},
   "outputs": [],
   "source": []
  }
 ],
 "metadata": {
  "kernelspec": {
   "display_name": "Python 3",
   "language": "python",
   "name": "python3"
  },
  "language_info": {
   "codemirror_mode": {
    "name": "ipython",
    "version": 3
   },
   "file_extension": ".py",
   "mimetype": "text/x-python",
   "name": "python",
   "nbconvert_exporter": "python",
   "pygments_lexer": "ipython3",
   "version": "3.6.7"
  }
 },
 "nbformat": 4,
 "nbformat_minor": 2
}
