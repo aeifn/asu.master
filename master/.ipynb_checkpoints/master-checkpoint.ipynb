{
 "cells": [
  {
   "cell_type": "markdown",
   "metadata": {},
   "source": [
    "# Задача о парковках\n",
    "**Дано**\n",
    "\n",
    "$M$ парковочных мест\n",
    "\n",
    "Время в пути:\n",
    "$t$, если попал,\n",
    "$\\tau$, если транспортом,\n",
    "$T$, если не попал;\n",
    "$t<\\tau<T$\n",
    "\n",
    "$N$ билетов продано, $N >> M$.\n",
    "\n",
    "$\\tau$ — резервный вариант. Сравнить его с лотереей ${t,T}$.\n",
    "\n",
    "Вероятность оказаться среди $M$ счастливчиков определяется количеством $\\tilde N$ севших за руль: $P=M/\\tilde{N}$ (или $1$, если $M \\le \\tilde N$).\n",
    "\n",
    "Чистое равновесие: $\\frac{M}{\\tilde N}t+(1-\\frac{M}{\\tilde{N}})T\\approx\\tau$.\n",
    "\n",
    "$\\tilde{N} \\to \\frac{M}{\\tilde{N}}t+(1-\\frac{M}{\\tilde{N}})T\\le\\tau$.\n",
    "\n",
    "${N-\\tilde N} \\to \\frac{M}{(\\tilde{N}+1)}t+(1-\\frac{M}{\\tilde{N}+1})T\\ge\\tau$.\n",
    "\n",
    "$T-\\tau = \\frac{M}{\\tilde{N}}(T-t)$\n",
    "\n",
    "$\\tilde{N}=[\\frac{M(T-t)}{T-\\tau}]$ — чистое равновесие. Но «так не бывает», ибо неясно, кто эти счастливчики.\n",
    "\n",
    "$p$ — вероятность сесть за руль. $Q$[тебе достанется место] такова, что $\\tau = Qt+(1-Q)T \\Rightarrow Q(T-t)=T-\\tau$, $Q*=\\frac{T-\\tau}{T-t}$.\n",
    "\n",
    "Но! $Q$ должно быть вычислено как функция от $p$!\n",
    "\n",
    "$(1-p)^{N-1}+(N-1)p(1-p)^{N-2}+C_{N-1}^2 p^2(1-p)^{N-2}+...+ C_{N-1}^{M-1}p^{M-1}(1-p)^{N-M}+C_{N-1}^{M}p^M(1-p)^{N-M-1}(\\frac{M}{M+1}) + C_{N-1}^{M+1}p^{M+1}(1-p)^{N-M-2}(\\frac{M}{M+2}) + p^{N-1}\\frac{M}{N} = Q^*$\n",
    "\n",
    "Решить как обратную функцию, найти $p^*$ — решение $p^*(\\frac{T-\\tau}{T-t})$.\n",
    "\n",
    "Гипотеза: в равновесии $Np^* >> M$."
   ]
  },
  {
   "cell_type": "code",
   "execution_count": null,
   "metadata": {},
   "outputs": [],
   "source": []
  }
 ],
 "metadata": {
  "kernelspec": {
   "display_name": "Python 3",
   "language": "python",
   "name": "python3"
  },
  "language_info": {
   "codemirror_mode": {
    "name": "ipython",
    "version": 3
   },
   "file_extension": ".py",
   "mimetype": "text/x-python",
   "name": "python",
   "nbconvert_exporter": "python",
   "pygments_lexer": "ipython3",
   "version": "3.7.4"
  }
 },
 "nbformat": 4,
 "nbformat_minor": 2
}
